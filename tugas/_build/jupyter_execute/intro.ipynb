{
 "cells": [
  {
   "cell_type": "markdown",
   "metadata": {
    "id": "dznOOZ7g5iyf"
   },
   "source": [
    "Halo selamat datang pada halaman saya.\n",
    "\n",
    "Halaman ini saya buat untuk mencatat materi ataupun tugas dari mata kuliah penambangan data untuk 1 semester kedepan\n",
    "\n",
    "Semoga materi pada mata kuliah ini bisa saya serap dengan baik dan jangan lupa stay ileng lan waspodo."
   ]
  }
 ],
 "metadata": {
  "colab": {
   "provenance": []
  },
  "kernelspec": {
   "display_name": "Python 3",
   "name": "python3"
  },
  "language_info": {
   "codemirror_mode": {
    "name": "ipython",
    "version": 3
   },
   "file_extension": ".py",
   "mimetype": "text/x-python",
   "name": "python",
   "nbconvert_exporter": "python",
   "pygments_lexer": "ipython3",
   "version": "3.12.1"
  }
 },
 "nbformat": 4,
 "nbformat_minor": 0
}