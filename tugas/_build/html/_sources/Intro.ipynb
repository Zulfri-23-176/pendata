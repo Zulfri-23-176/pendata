{
  "nbformat": 4,
  "nbformat_minor": 0,
  "metadata": {
    "colab": {
      "provenance": []
    },
    "kernelspec": {
      "name": "python3",
      "display_name": "Python 3"
    },
    "language_info": {
      "name": "python"
    }
  },
  "cells": [
    {
      "cell_type": "markdown",
      "source": [
        "Halo selamat datang pada halaman saya.\n",
        "\n",
        "Halaman ini saya buat untuk mencatat materi ataupun tugas dari mata kuliah penambangan data untuk 1 semester kedepan\n",
        "\n",
        "Semoga materi pada mata kuliah ini bisa saya serap dengan baik dan jangan lupa stay ileng lan waspodo."
      ],
      "metadata": {
        "id": "dznOOZ7g5iyf"
      }
    },
    {
      "cell_type": "code",
      "execution_count": null,
      "metadata": {
        "id": "YcGpLZxM4fb7"
      },
      "outputs": [],
      "source": []
    }
  ]
}