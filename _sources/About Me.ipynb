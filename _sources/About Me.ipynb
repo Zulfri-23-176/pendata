{
  "nbformat": 4,
  "nbformat_minor": 0,
  "metadata": {
    "colab": {
      "provenance": []
    },
    "kernelspec": {
      "name": "python3",
      "display_name": "Python 3"
    },
    "language_info": {
      "name": "python"
    }
  },
  "cells": [
    {
      "cell_type": "markdown",
      "source": [
        "Halo saya seorang mahasiswa Teknik Informatika semester 4.\n",
        "\n",
        "Sebelumnya izinkan saya mengenalkan diri :\n",
        "\n",
        "Nama  : Muhammad Zulfri Choiril Anwar\n",
        "\n",
        "NIM   : 230411100176\n",
        "\n",
        "Prodi : Teknik Informatika\n",
        "\n",
        "Email : zulfrianwar@gmail.com\n",
        "<br><br>\n",
        "\n",
        "Salam Kenallll ^_^"
      ],
      "metadata": {
        "id": "dznOOZ7g5iyf"
      }
    },
    {
      "cell_type": "code",
      "execution_count": null,
      "metadata": {
        "id": "YcGpLZxM4fb7"
      },
      "outputs": [],
      "source": []
    }
  ]
}